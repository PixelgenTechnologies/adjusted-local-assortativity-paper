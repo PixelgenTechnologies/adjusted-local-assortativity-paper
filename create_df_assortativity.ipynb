{
 "cells": [
  {
   "cell_type": "code",
   "execution_count": 6,
   "metadata": {},
   "outputs": [],
   "source": [
    "import numpy as np\n",
    "import igraph as ig\n",
    "import pandas as pd\n",
    "import seaborn as sns\n",
    "\n",
    "import matplotlib\n",
    "import matplotlib.pyplot as plt\n",
    "\n",
    "from pathlib import Path\n",
    "\n",
    "import os\n",
    "import sys  \n",
    "\n",
    "# set path for pixelator directory \n",
    "sys.path.insert(0, \"/Users/janrkauert/pixelator/\")\n",
    "\n",
    "# load functions from pixelator\n",
    "from pixelator.pixeldataset import build_graph, PixelDataset\n",
    "from pixelator.analysis import polarization_scores\n",
    "\n",
    "# set path for pixelator directory \n",
    "sys.path.insert(1, \"/Users/janrkauert/Documents/GitHub/sandbox/PXL00018/\")\n",
    "\n",
    "# load standard workflow single cell functions\n",
    "from single_cell_functions.line_graph import create_line_graph\n",
    "from single_cell_functions.local_assortativity import calculate_local_assorativity\n",
    "from single_cell_functions.plot import plot_mutliple_markers, plot_mutliple_components\n",
    "from single_cell_functions.global_assortativity import calculate_assortativity_component_wise\n",
    "from single_cell_functions.similarity_measures import compare_multiple_markers\n",
    "\n",
    "\n",
    "# get directory with graph eval files\n",
    "path_name = \"/Users/janrkauert/Downloads/Updated_uropods\""
   ]
  },
  {
   "cell_type": "code",
   "execution_count": 7,
   "metadata": {},
   "outputs": [
    {
     "name": "stdout",
     "output_type": "stream",
     "text": [
      "Uropod_CD54_Rantes_coated_S3_001.dataset.pxl\n",
      "Uropod_control_S1_001.dataset.pxl\n"
     ]
    }
   ],
   "source": [
    "# new graph for all data\n",
    "sample_list = []\n",
    "pxl_data_list = []\n",
    "\n",
    "for index_place, file in enumerate(sorted(os.listdir(path_name))):\n",
    "    \n",
    "    # get name of current file in directory\n",
    "    filename = os.fsdecode(file)\n",
    "\n",
    "    # load marker edge list\n",
    "    pxl_data = PixelDataset.from_file(path_name + \"/\" + filename)\n",
    "    edge_list_df = pxl_data.edgelist   \n",
    "\n",
    "    edge_list_df.columns = [col.lower() for col in edge_list_df.columns]\n",
    "\n",
    "    # build the graph\n",
    "    mega_graph = build_graph(\n",
    "                edgelist=edge_list_df,\n",
    "                add_marker_counts=True,\n",
    "                simplify=False,\n",
    "                use_full_bipartite=False,\n",
    "            )\n",
    "    \n",
    "    # add filename as a vertex attribute\n",
    "    mega_graph.es[\"sample\"] = [filename] * mega_graph.ecount()\n",
    "\n",
    "    sample_list.append(mega_graph)\n",
    "    pxl_data_list.append(pxl_data)\n",
    "\n",
    "    print(filename)"
   ]
  },
  {
   "cell_type": "code",
   "execution_count": 10,
   "metadata": {},
   "outputs": [],
   "source": [
    "# select sample to work on\n",
    "sample_index = 1\n",
    "marker = \"CD50\"\n",
    "\n",
    "# create component dict\n",
    "comp_dict = dict(zip(pxl_data_list[sample_index].edgelist[\"upia\"].values.tolist(), pxl_data_list[sample_index].edgelist[\"component\"].values.tolist()))\n",
    "\n",
    "# subgraphs of the selected sample\n",
    "graph_component_subgraphs = sample_list[sample_index].components().subgraphs()\n",
    "\n",
    "# add component name\n",
    "for comp in graph_component_subgraphs:\n",
    "    comp.vs[\"component\"] = comp_dict[comp.vs[0][\"name\"]]\n",
    "\n",
    "# get polarization scores for the selected marker\n",
    "pol_df = pxl_data_list[sample_index].polarization\n",
    "pol_df = pol_df.loc[pol_df['marker'] == marker]\n",
    "\n",
    "# get ten most polarized components names\n",
    "pol_components = pol_df.sort_values(by=\"morans_i\", ascending=False)[\"component\"][:200].values.tolist()\n",
    "pol_components = set(pol_components)\n",
    "\n",
    "# get the subgraphs belonging to the selected component names\n",
    "top_polarised_components = [comp for comp in graph_component_subgraphs if comp_dict[comp.vs[0][\"name\"]] in pol_components and comp.vcount() > 1000 and comp.vcount() < 3000]"
   ]
  },
  {
   "cell_type": "code",
   "execution_count": 11,
   "metadata": {},
   "outputs": [],
   "source": [
    "marker_names = [\"CD37\", \"CD43\", \"CD44\", \"CD50\", \"CD54\", \"CD82\", \"CD102\", \"CD162\", \"CD11a\", \"CD18\",\"mIgG1\"]\n",
    "\n",
    "# create new dataframe to keep track of similarity measures\n",
    "similarity_measure_df = pd.DataFrame()\n",
    "list_dfs = []\n",
    "\n",
    "# iterate through the first 100 components in the current sample\n",
    "for comp_index, component in enumerate(top_polarised_components[:100]):\n",
    "    \n",
    "    local_assort_score_df = pd.DataFrame()\n",
    "    \n",
    "    for marker in marker_names:\n",
    "\n",
    "        loc_rounded = calculate_local_assorativity(component, marker)\n",
    "        local_assort_score_df[marker] = loc_rounded       \n",
    "            \n",
    "    local_assort_score_df.to_csv(\"/Users/janrkauert/Documents/GitHub/sandbox/PXL00018/single_cells/code_paper/paper_data/S1/\" + str(comp_index))"
   ]
  }
 ],
 "metadata": {
  "kernelspec": {
   "display_name": "base",
   "language": "python",
   "name": "python3"
  },
  "language_info": {
   "codemirror_mode": {
    "name": "ipython",
    "version": 3
   },
   "file_extension": ".py",
   "mimetype": "text/x-python",
   "name": "python",
   "nbconvert_exporter": "python",
   "pygments_lexer": "ipython3",
   "version": "3.9.13"
  },
  "orig_nbformat": 4
 },
 "nbformat": 4,
 "nbformat_minor": 2
}
