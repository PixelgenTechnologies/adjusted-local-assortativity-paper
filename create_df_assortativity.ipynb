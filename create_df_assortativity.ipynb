{
 "cells": [
  {
   "cell_type": "code",
   "execution_count": 1,
   "metadata": {},
   "outputs": [],
   "source": [
    "import pandas as pd\n",
    "\n",
    "import os\n",
    "from pathlib import Path\n",
    "\n",
    "# load functions from pixelator\n",
    "from pixelator.pixeldataset import PixelDataset\n",
    "from pixelator.graph import Graph\n",
    "\n",
    "# load standard workflow single cell functions\n",
    "from colocalization_measures.adjusted_local_assortativity import calculate_adjusted_local_assorativity\n",
    "from colocalization_measures.colocalization_scores import create_colocalization_scores\n",
    "\n",
    "# get directory with graph eval files\n",
    "path_name = \"C:/Users/janrh/Downloads/Pixelator_data\""
   ]
  },
  {
   "cell_type": "code",
   "execution_count": 2,
   "metadata": {},
   "outputs": [
    {
     "name": "stdout",
     "output_type": "stream",
     "text": [
      "Uropod_CD54_fixed.dataset.pxl\n",
      "Uropod_CD54_fixed_RANTES_stimulated.dataset.pxl\n",
      "Uropod_control.dataset.pxl\n"
     ]
    }
   ],
   "source": [
    "# new graph for all data\n",
    "sample_list = []\n",
    "pxl_data_list = []\n",
    "\n",
    "for index_place, file in enumerate(sorted(os.listdir(path_name))):\n",
    "    \n",
    "    # get name of current file in directory\n",
    "    filename = os.fsdecode(file)\n",
    "\n",
    "    # load marker edge list\n",
    "    pxl_data = PixelDataset.from_file(path_name + \"/\" + filename)\n",
    "    edge_list_df = pxl_data.edgelist   \n",
    "\n",
    "    edge_list_df.columns = [col.lower() for col in edge_list_df.columns]\n",
    "\n",
    "    # build the graph\n",
    "    graph = Graph.from_edgelist(edgelist=edge_list_df,\n",
    "                                add_marker_counts=True,\n",
    "                                simplify=False,\n",
    "                                use_full_bipartite=False)\n",
    "    mega_graph = graph._raw\n",
    "    \n",
    "    # add filename as a vertex attribute\n",
    "    mega_graph.es[\"sample\"] = [filename] * mega_graph.ecount()\n",
    "\n",
    "    sample_list.append(mega_graph)\n",
    "    pxl_data_list.append(pxl_data)\n",
    "\n",
    "    print(filename)"
   ]
  },
  {
   "cell_type": "code",
   "execution_count": 3,
   "metadata": {},
   "outputs": [],
   "source": [
    "# select sample to work on\n",
    "sample_index = 2\n",
    "\n",
    "# subgraphs of the selected sample\n",
    "graph_component_subgraphs = sample_list[sample_index].components().subgraphs()\n",
    "\n",
    "# load edge list from pixelator dataset\n",
    "df = pxl_data_list[sample_index].edgelist\n",
    "\n",
    "# create dictionary form all pixel names for each component\n",
    "dict_comp_A = dict(zip(df[\"upia\"].values, df[\"component\"].values))\n",
    "dict_comp_B = dict(zip(df[\"upib\"].values, df[\"component\"].values))\n",
    "\n",
    "# create a set for all UPIA and UPIB for fast assessments\n",
    "set_comp_A_pixels = set(df[\"upia\"].values)\n",
    "set_comp_B_pixels = set(df[\"upib\"].values)"
   ]
  },
  {
   "cell_type": "code",
   "execution_count": 4,
   "metadata": {},
   "outputs": [],
   "source": [
    "marker_names = ['CD9', 'CD62P', 'CD27', 'CD36', 'mIgG2b', 'CD337', 'CD3E', 'CD274', 'CD55', 'CD161', 'CD14', 'CD48', 'CD82', 'CD64', \n",
    "                'CD11c', 'CD54', 'CD11b', 'CD44', 'CD154', 'B2M', 'CD268', 'CD18', 'CD37', 'CD4', 'CD29', 'CD11a', 'CD47', 'CD7', \n",
    "                'CD2', 'CD35', 'CD45', 'CD8', 'CD314', 'CD22', 'CD19', 'CD127', 'CD53', 'CD52', 'CD229', 'CD72', 'CD59', 'CD163', 'CD38', \n",
    "                'CD25', 'CD41', 'CD150', 'CD278', 'ACTB', 'CD152', 'mIgG1',  'CD5', 'CD26', 'CD197', 'CD50', 'CD328', 'CD279', 'CD200',\n",
    "                'CD71', 'CD102', 'CD244', 'CD45RB', 'CD40', 'CD45RA', 'CD84', 'CD49D', 'CD162', 'CD1d', 'CD137', 'CD32', 'CD69', 'CD20', 'CD33', \n",
    "                'CD158', 'HLA-ABC', 'mIgG2a', 'CD86', 'CD43', 'CD16', 'TCRb', 'HLA-DR']"
   ]
  },
  {
   "cell_type": "code",
   "execution_count": 5,
   "metadata": {},
   "outputs": [],
   "source": [
    "# create new dataframe to keep track of similarity measures\n",
    "similarity_measure_df = pd.DataFrame()\n",
    "list_dfs = []\n",
    "\n",
    "# set directory where the component df should be saved\n",
    "directory_path = \"C:/Users/janrh/Documents/GitHub/TDA-local-assortativity-paper/S0/\"\n",
    "\n",
    "# iterate through the first 100 components in the current sample\n",
    "for component in graph_component_subgraphs:\n",
    "\n",
    "    # get the component name by vertex name\n",
    "    if component.vs[0][\"name\"] in set_comp_A_pixels:\n",
    "        comp_name = dict_comp_A[component.vs[0][\"name\"]]\n",
    "    else:\n",
    "        comp_name = dict_comp_B[component.vs[0][\"name\"]]\n",
    "\n",
    "    # get file info\n",
    "    component_file_name = directory_path + str(comp_name)\n",
    "    component_file_path = Path(component_file_name)\n",
    "\n",
    "    # check if file in directry \n",
    "    if not component_file_path.is_file():\n",
    "\n",
    "        # create a df with the local assorativity scores for the current component\n",
    "        local_assort_score_df = pd.DataFrame()\n",
    "        for marker in marker_names:\n",
    "\n",
    "            # calculate local assorativity scores for each marker in list\n",
    "            loc_rounded = calculate_adjusted_local_assorativity(component, marker)\n",
    "            local_assort_score_df[marker] = loc_rounded   \n",
    "\n",
    "        # save df\n",
    "        local_assort_score_df.to_csv(component_file_name)"
   ]
  },
  {
   "cell_type": "code",
   "execution_count": 6,
   "metadata": {},
   "outputs": [],
   "source": [
    "path_data = \"C:/Users/janrh/Documents/GitHub/TDA-local-assortativity-paper/S1\"\n",
    "\n",
    "# calculate pairwise colocalization scores\n",
    "similarity_measure_df_S1 = create_colocalization_scores(marker_names, path_data)"
   ]
  },
  {
   "cell_type": "code",
   "execution_count": 7,
   "metadata": {},
   "outputs": [],
   "source": [
    "path_data = \"C:/Users/janrh/Documents/GitHub/TDA-local-assortativity-paper/S3\"\n",
    "\n",
    "# calculate pairwise colocalization scores\n",
    "similarity_measure_df_S3 = create_colocalization_scores(marker_names, path_data)"
   ]
  }
 ],
 "metadata": {
  "kernelspec": {
   "display_name": "base",
   "language": "python",
   "name": "python3"
  },
  "language_info": {
   "codemirror_mode": {
    "name": "ipython",
    "version": 3
   },
   "file_extension": ".py",
   "mimetype": "text/x-python",
   "name": "python",
   "nbconvert_exporter": "python",
   "pygments_lexer": "ipython3",
   "version": "3.11.4"
  },
  "orig_nbformat": 4
 },
 "nbformat": 4,
 "nbformat_minor": 2
}
