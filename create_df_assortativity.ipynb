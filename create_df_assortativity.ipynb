{
 "cells": [
  {
   "cell_type": "code",
   "execution_count": 1,
   "metadata": {},
   "outputs": [],
   "source": [
    "import pandas as pd\n",
    "\n",
    "import os\n",
    "from pathlib import Path\n",
    "\n",
    "# load functions from pixelator\n",
    "from pixelator.pixeldataset import PixelDataset\n",
    "from pixelator.graph import Graph\n",
    "\n",
    "# load standard workflow single cell functions\n",
    "from colocalization_measures.adjusted_local_assortativity import calculate_adjusted_local_assorativity\n",
    "from colocalization_measures.colocalization_scores import create_colocalization_scores\n",
    "\n",
    "# get directory with graph eval files\n",
    "path_name = \"C:/Users/janrh/Downloads/Rituximab\""
   ]
  },
  {
   "cell_type": "code",
   "execution_count": 2,
   "metadata": {},
   "outputs": [
    {
     "name": "stdout",
     "output_type": "stream",
     "text": [
      "Sample03_Raji_control_001.dataset.pxl\n",
      "Sample04_Raji_Rituximab_treated_001.dataset.pxl\n"
     ]
    }
   ],
   "source": [
    "# new graph for all data\n",
    "edge_list_df_list = []\n",
    "pxl_data_list = []\n",
    "file_names = []\n",
    "\n",
    "for index_place, file in enumerate(sorted(os.listdir(path_name))):\n",
    "    \n",
    "    # get name of current file in directory\n",
    "    filename = os.fsdecode(file)\n",
    "\n",
    "    # load marker edge list\n",
    "    pxl_data = PixelDataset.from_file(path_name + \"/\" + filename)\n",
    "    edge_list_df = pxl_data.edgelist   \n",
    "\n",
    "    edge_list_df.columns = [col.lower() for col in edge_list_df.columns]\n",
    "\n",
    "    edge_list_df_list.append(edge_list_df)\n",
    "    pxl_data_list.append(pxl_data)\n",
    "    file_names.append(filename)\n",
    "\n",
    "    print(filename)"
   ]
  },
  {
   "cell_type": "code",
   "execution_count": 3,
   "metadata": {},
   "outputs": [],
   "source": [
    "sample_list = []\n",
    "\n",
    "for index_df, df in enumerate(edge_list_df_list):\n",
    "    # build the graph\n",
    "    graph = Graph.from_edgelist(edgelist=df,\n",
    "                                add_marker_counts=True,\n",
    "                                simplify=False,\n",
    "                                use_full_bipartite=False)\n",
    "    mega_graph = graph._raw\n",
    "    \n",
    "    # add filename as a vertex attribute\n",
    "    mega_graph.es[\"sample\"] = [file_names[index_df]] * mega_graph.ecount()\n",
    "\n",
    "    sample_list.append(mega_graph)"
   ]
  },
  {
   "cell_type": "code",
   "execution_count": 4,
   "metadata": {},
   "outputs": [],
   "source": [
    "# select sample to work on\n",
    "sample_index = 1\n",
    "\n",
    "# subgraphs of the selected sample\n",
    "graph_component_subgraphs = sample_list[sample_index].components().subgraphs()\n",
    "\n",
    "# load edge list from pixelator dataset\n",
    "df = pxl_data_list[sample_index].edgelist\n",
    "\n",
    "# create dictionary form all pixel names for each component\n",
    "dict_comp_A = dict(zip(df[\"upia\"].values, df[\"component\"].values))\n",
    "dict_comp_B = dict(zip(df[\"upib\"].values, df[\"component\"].values))\n",
    "\n",
    "# create a set for all UPIA and UPIB for fast assessments\n",
    "set_comp_A_pixels = set(df[\"upia\"].values)\n",
    "set_comp_B_pixels = set(df[\"upib\"].values)"
   ]
  },
  {
   "cell_type": "code",
   "execution_count": 5,
   "metadata": {},
   "outputs": [],
   "source": [
    "marker_names = ['CD9', 'CD62P', 'CD27', 'CD36', 'mIgG2b', 'CD337', 'CD3E', 'CD274', 'CD55', 'CD161', 'CD14', 'CD48', 'CD82', 'CD64', \n",
    "                'CD11c', 'CD54', 'CD11b', 'CD44', 'CD154', 'B2M', 'CD268', 'CD18', 'CD37', 'CD4', 'CD29', 'CD11a', 'CD47', 'CD7', \n",
    "                'CD2', 'CD35', 'CD45', 'CD8', 'CD314', 'CD22', 'CD19', 'CD127', 'CD53', 'CD52', 'CD229', 'CD72', 'CD59', 'CD163', 'CD38', \n",
    "                'CD25', 'CD41', 'CD150', 'CD278', 'ACTB', 'CD152', 'mIgG1',  'CD5', 'CD26', 'CD197', 'CD50', 'CD328', 'CD279', 'CD200',\n",
    "                'CD71', 'CD102', 'CD244', 'CD45RB', 'CD40', 'CD45RA', 'CD84', 'CD49D', 'CD162', 'CD1d', 'CD137', 'CD32', 'CD69', 'CD20', 'CD33', \n",
    "                'CD158', 'HLA-ABC', 'mIgG2a', 'CD86', 'CD43', 'CD16', 'TCRb', 'HLA-DR']\n",
    "\n",
    "marker_names += [\"Rituximab\"]"
   ]
  },
  {
   "cell_type": "code",
   "execution_count": 6,
   "metadata": {},
   "outputs": [
    {
     "ename": "KeyboardInterrupt",
     "evalue": "",
     "output_type": "error",
     "traceback": [
      "\u001b[1;31m---------------------------------------------------------------------------\u001b[0m",
      "\u001b[1;31mKeyboardInterrupt\u001b[0m                         Traceback (most recent call last)",
      "\u001b[1;32mc:\\Users\\janrh\\Documents\\GitHub\\TDA-local-assortativity-paper\\create_df_assortativity.ipynb Cell 6\u001b[0m line \u001b[0;36m2\n\u001b[0;32m     <a href='vscode-notebook-cell:/c%3A/Users/janrh/Documents/GitHub/TDA-local-assortativity-paper/create_df_assortativity.ipynb#W5sZmlsZQ%3D%3D?line=24'>25</a>\u001b[0m local_assort_score_df \u001b[39m=\u001b[39m pd\u001b[39m.\u001b[39mDataFrame()\n\u001b[0;32m     <a href='vscode-notebook-cell:/c%3A/Users/janrh/Documents/GitHub/TDA-local-assortativity-paper/create_df_assortativity.ipynb#W5sZmlsZQ%3D%3D?line=25'>26</a>\u001b[0m \u001b[39mfor\u001b[39;00m marker \u001b[39min\u001b[39;00m marker_names:\n\u001b[0;32m     <a href='vscode-notebook-cell:/c%3A/Users/janrh/Documents/GitHub/TDA-local-assortativity-paper/create_df_assortativity.ipynb#W5sZmlsZQ%3D%3D?line=26'>27</a>\u001b[0m \n\u001b[0;32m     <a href='vscode-notebook-cell:/c%3A/Users/janrh/Documents/GitHub/TDA-local-assortativity-paper/create_df_assortativity.ipynb#W5sZmlsZQ%3D%3D?line=27'>28</a>\u001b[0m     \u001b[39m# calculate local assorativity scores for each marker in list\u001b[39;00m\n\u001b[1;32m---> <a href='vscode-notebook-cell:/c%3A/Users/janrh/Documents/GitHub/TDA-local-assortativity-paper/create_df_assortativity.ipynb#W5sZmlsZQ%3D%3D?line=28'>29</a>\u001b[0m     loc_rounded \u001b[39m=\u001b[39m calculate_adjusted_local_assorativity(component, marker)\n\u001b[0;32m     <a href='vscode-notebook-cell:/c%3A/Users/janrh/Documents/GitHub/TDA-local-assortativity-paper/create_df_assortativity.ipynb#W5sZmlsZQ%3D%3D?line=29'>30</a>\u001b[0m     local_assort_score_df[marker] \u001b[39m=\u001b[39m loc_rounded   \n\u001b[0;32m     <a href='vscode-notebook-cell:/c%3A/Users/janrh/Documents/GitHub/TDA-local-assortativity-paper/create_df_assortativity.ipynb#W5sZmlsZQ%3D%3D?line=31'>32</a>\u001b[0m \u001b[39m# save df\u001b[39;00m\n",
      "File \u001b[1;32mc:\\Users\\janrh\\Documents\\GitHub\\TDA-local-assortativity-paper\\colocalization_measures\\adjusted_local_assortativity.py:249\u001b[0m, in \u001b[0;36mcalculate_adjusted_local_assorativity\u001b[1;34m(graph, attribute, marker_threshold)\u001b[0m\n\u001b[0;32m    245\u001b[0m n_vertices_marker \u001b[39m=\u001b[39m [\u001b[39m1\u001b[39m \u001b[39mfor\u001b[39;00m n_marker \u001b[39min\u001b[39;00m numerical_attribute_list \u001b[39mif\u001b[39;00m n_marker \u001b[39m>\u001b[39m \u001b[39m0\u001b[39m]\n\u001b[0;32m    247\u001b[0m \u001b[39mif\u001b[39;00m  \u001b[39msum\u001b[39m(n_vertices_marker) \u001b[39m>\u001b[39m \u001b[39m10\u001b[39m \u001b[39mand\u001b[39;00m \u001b[39msum\u001b[39m(numerical_attribute_list) \u001b[39m>\u001b[39m max_control:\n\u001b[0;32m    248\u001b[0m     \u001b[39m# get local assortativity based on the graph and given attribute\u001b[39;00m\n\u001b[1;32m--> 249\u001b[0m     loc_ass \u001b[39m=\u001b[39m localAssortF_numeric(graph, numerical_attribute_list, \u001b[39mFalse\u001b[39;49;00m)\n\u001b[0;32m    251\u001b[0m     \u001b[39m# normalize the given assortativity scores using the Z-score\u001b[39;00m\n\u001b[0;32m    252\u001b[0m     normalized_local_assorativity_scores \u001b[39m=\u001b[39m normalize_local_assortativity_scores(loc_ass)\n",
      "File \u001b[1;32mc:\\Users\\janrh\\Documents\\GitHub\\TDA-local-assortativity-paper\\colocalization_measures\\adjusted_local_assortativity.py:141\u001b[0m, in \u001b[0;36mlocalAssortF_numeric\u001b[1;34m(graph, attribute, include_randomise)\u001b[0m\n\u001b[0;32m    136\u001b[0m per_pr \u001b[39m=\u001b[39m np\u001b[39m.\u001b[39mzeros((n_vertices, n_vertices))\n\u001b[0;32m    138\u001b[0m \u001b[39mfor\u001b[39;00m index_vertex \u001b[39min\u001b[39;00m \u001b[39mrange\u001b[39m(n_vertices):\n\u001b[0;32m    139\u001b[0m \n\u001b[0;32m    140\u001b[0m     \u001b[39m# Calculate personalized totalrank\u001b[39;00m\n\u001b[1;32m--> 141\u001b[0m     pTotalRank \u001b[39m=\u001b[39m calculateRWRrange(W, index_vertex, pr, n_vertices)\n\u001b[0;32m    142\u001b[0m     per_pr[index_vertex] \u001b[39m=\u001b[39m pTotalRank\n\u001b[0;32m    144\u001b[0m     \u001b[39mif\u001b[39;00m include_randomise \u001b[39mand\u001b[39;00m permutations \u001b[39m>\u001b[39m \u001b[39m0\u001b[39m:\n\u001b[0;32m    145\u001b[0m \n\u001b[0;32m    146\u001b[0m         \u001b[39m# initialize permutations of markers\u001b[39;00m\n",
      "File \u001b[1;32mc:\\Users\\janrh\\Documents\\GitHub\\TDA-local-assortativity-paper\\colocalization_measures\\adjusted_local_assortativity.py:65\u001b[0m, in \u001b[0;36mcalculateRWRrange\u001b[1;34m(W, i, alphas, n, maxIter)\u001b[0m\n\u001b[0;32m     61\u001b[0m oneminusalpha0 \u001b[39m=\u001b[39m \u001b[39m1\u001b[39m \u001b[39m-\u001b[39m alpha0\n\u001b[0;32m     63\u001b[0m \u001b[39mwhile\u001b[39;00m diff \u001b[39m>\u001b[39m \u001b[39m1e-4\u001b[39m:\n\u001b[0;32m     64\u001b[0m     \u001b[39m# calculate personalised PageRank via power iteration\u001b[39;00m\n\u001b[1;32m---> 65\u001b[0m     pPageRank \u001b[39m=\u001b[39m WT \u001b[39m@\u001b[39;49m pPageRank\n\u001b[0;32m     66\u001b[0m     pPageRank[i] \u001b[39m+\u001b[39m\u001b[39m=\u001b[39m oneminusalpha0\n\u001b[0;32m     68\u001b[0m     \u001b[39m# calculate difference in pPageRank from previous iteration\u001b[39;00m\n",
      "File \u001b[1;32mc:\\Users\\janrh\\AppData\\Local\\Programs\\Python\\Python311\\Lib\\site-packages\\scipy\\sparse\\_base.py:624\u001b[0m, in \u001b[0;36m_spbase.__matmul__\u001b[1;34m(self, other)\u001b[0m\n\u001b[0;32m    621\u001b[0m \u001b[39mif\u001b[39;00m isscalarlike(other):\n\u001b[0;32m    622\u001b[0m     \u001b[39mraise\u001b[39;00m \u001b[39mValueError\u001b[39;00m(\u001b[39m\"\u001b[39m\u001b[39mScalar operands are not allowed, \u001b[39m\u001b[39m\"\u001b[39m\n\u001b[0;32m    623\u001b[0m                      \u001b[39m\"\u001b[39m\u001b[39muse \u001b[39m\u001b[39m'\u001b[39m\u001b[39m*\u001b[39m\u001b[39m'\u001b[39m\u001b[39m instead\u001b[39m\u001b[39m\"\u001b[39m)\n\u001b[1;32m--> 624\u001b[0m \u001b[39mreturn\u001b[39;00m \u001b[39mself\u001b[39;49m\u001b[39m.\u001b[39;49m_mul_dispatch(other)\n",
      "File \u001b[1;32mc:\\Users\\janrh\\AppData\\Local\\Programs\\Python\\Python311\\Lib\\site-packages\\scipy\\sparse\\_base.py:522\u001b[0m, in \u001b[0;36m_spbase._mul_dispatch\u001b[1;34m(self, other)\u001b[0m\n\u001b[0;32m    519\u001b[0m \u001b[39mif\u001b[39;00m other\u001b[39m.\u001b[39m\u001b[39m__class__\u001b[39m \u001b[39mis\u001b[39;00m np\u001b[39m.\u001b[39mndarray:\n\u001b[0;32m    520\u001b[0m     \u001b[39m# Fast path for the most common case\u001b[39;00m\n\u001b[0;32m    521\u001b[0m     \u001b[39mif\u001b[39;00m other\u001b[39m.\u001b[39mshape \u001b[39m==\u001b[39m (N,):\n\u001b[1;32m--> 522\u001b[0m         \u001b[39mreturn\u001b[39;00m \u001b[39mself\u001b[39;49m\u001b[39m.\u001b[39;49m_mul_vector(other)\n\u001b[0;32m    523\u001b[0m     \u001b[39melif\u001b[39;00m other\u001b[39m.\u001b[39mshape \u001b[39m==\u001b[39m (N, \u001b[39m1\u001b[39m):\n\u001b[0;32m    524\u001b[0m         \u001b[39mreturn\u001b[39;00m \u001b[39mself\u001b[39m\u001b[39m.\u001b[39m_mul_vector(other\u001b[39m.\u001b[39mravel())\u001b[39m.\u001b[39mreshape(M, \u001b[39m1\u001b[39m)\n",
      "File \u001b[1;32mc:\\Users\\janrh\\AppData\\Local\\Programs\\Python\\Python311\\Lib\\site-packages\\scipy\\sparse\\_compressed.py:488\u001b[0m, in \u001b[0;36m_cs_matrix._mul_vector\u001b[1;34m(self, other)\u001b[0m\n\u001b[0;32m    486\u001b[0m \u001b[39m# csr_matvec or csc_matvec\u001b[39;00m\n\u001b[0;32m    487\u001b[0m fn \u001b[39m=\u001b[39m \u001b[39mgetattr\u001b[39m(_sparsetools, \u001b[39mself\u001b[39m\u001b[39m.\u001b[39mformat \u001b[39m+\u001b[39m \u001b[39m'\u001b[39m\u001b[39m_matvec\u001b[39m\u001b[39m'\u001b[39m)\n\u001b[1;32m--> 488\u001b[0m fn(M, N, \u001b[39mself\u001b[39;49m\u001b[39m.\u001b[39;49mindptr, \u001b[39mself\u001b[39;49m\u001b[39m.\u001b[39;49mindices, \u001b[39mself\u001b[39;49m\u001b[39m.\u001b[39;49mdata, other, result)\n\u001b[0;32m    490\u001b[0m \u001b[39mreturn\u001b[39;00m result\n",
      "\u001b[1;31mKeyboardInterrupt\u001b[0m: "
     ]
    }
   ],
   "source": [
    "# create new dataframe to keep track of similarity measures\n",
    "similarity_measure_df = pd.DataFrame()\n",
    "list_dfs = []\n",
    "\n",
    "# set directory where the component df should be saved\n",
    "directory_path = \"C:/Users/janrh/Documents/GitHub/TDA-local-assortativity-paper/Rituximab/Treated/Treated\"\n",
    "\n",
    "# iterate through the first 100 components in the current sample\n",
    "for component in graph_component_subgraphs:\n",
    "\n",
    "    # get the component name by vertex name\n",
    "    if component.vs[0][\"name\"] in set_comp_A_pixels:\n",
    "        comp_name = dict_comp_A[component.vs[0][\"name\"]]\n",
    "    else:\n",
    "        comp_name = dict_comp_B[component.vs[0][\"name\"]]\n",
    "\n",
    "    # get file info\n",
    "    component_file_name = directory_path + str(comp_name)\n",
    "    component_file_path = Path(component_file_name)\n",
    "\n",
    "    # check if file in directry \n",
    "    if not component_file_path.is_file():\n",
    "\n",
    "        # create a df with the local assorativity scores for the current component\n",
    "        local_assort_score_df = pd.DataFrame()\n",
    "        for marker in marker_names:\n",
    "\n",
    "            # calculate local assorativity scores for each marker in list\n",
    "            loc_rounded = calculate_adjusted_local_assorativity(component, marker)\n",
    "            local_assort_score_df[marker] = loc_rounded   \n",
    "\n",
    "        # save df\n",
    "        local_assort_score_df.to_csv(component_file_name)"
   ]
  },
  {
   "cell_type": "code",
   "execution_count": null,
   "metadata": {},
   "outputs": [],
   "source": [
    "path_data = \"C:/Users/janrh/Documents/GitHub/TDA-local-assortativity-paper/Rituximab/Control\"\n",
    "\n",
    "# calculate pairwise colocalization scores\n",
    "similarity_measure_df_S1 = create_colocalization_scores(marker_names, path_data)"
   ]
  },
  {
   "cell_type": "code",
   "execution_count": null,
   "metadata": {},
   "outputs": [],
   "source": [
    "path_data = \"C:/Users/janrh/Documents/GitHub/TDA-local-assortativity-paper/Rituximab/Treated\"\n",
    "\n",
    "# calculate pairwise colocalization scores\n",
    "similarity_measure_df_S3 = create_colocalization_scores(marker_names, path_data)"
   ]
  }
 ],
 "metadata": {
  "kernelspec": {
   "display_name": "base",
   "language": "python",
   "name": "python3"
  },
  "language_info": {
   "codemirror_mode": {
    "name": "ipython",
    "version": 3
   },
   "file_extension": ".py",
   "mimetype": "text/x-python",
   "name": "python",
   "nbconvert_exporter": "python",
   "pygments_lexer": "ipython3",
   "version": "3.11.4"
  },
  "orig_nbformat": 4
 },
 "nbformat": 4,
 "nbformat_minor": 2
}
