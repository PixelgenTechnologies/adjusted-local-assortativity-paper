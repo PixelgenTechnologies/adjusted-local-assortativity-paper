{
 "cells": [
  {
   "attachments": {},
   "cell_type": "markdown",
   "metadata": {},
   "source": [
    "Notebook to give a quick introduction into the pairwise and higher order colocalization scores"
   ]
  },
  {
   "cell_type": "code",
   "execution_count": null,
   "metadata": {},
   "outputs": [],
   "source": [
    "import itertools\n",
    "\n",
    "import numpy as np\n",
    "import pandas as pd\n",
    "\n",
    "from upsetplot import UpSet\n",
    "from scipy.stats import spearmanr\n",
    "\n",
    "from colocalization_measures.higher_order_similarity import calculate_higher_order_similarity\n",
    "\n",
    "marker_names = [\"CD37\", \"CD43\", \"CD44\", \"CD50\", \"CD54\", \"CD82\", \"CD102\", \"CD162\", \"CD11a\", \"CD18\",\"mIgG1\"]\n",
    "path_data = \"PXL00018/single_cells/code_paper/paper_data/S3\""
   ]
  },
  {
   "attachments": {},
   "cell_type": "markdown",
   "metadata": {},
   "source": [
    "Plotting function for the colocalization scores"
   ]
  },
  {
   "cell_type": "code",
   "execution_count": null,
   "metadata": {},
   "outputs": [],
   "source": [
    "def create_upset_plot(marker_names, similarity_measure_df):\n",
    "    # create new dataframe for the upset plot as this requires a specific type of structure\n",
    "    upset_plot_df = pd.DataFrame()\n",
    "\n",
    "    # iterate through all maker names to get boolean values if they are part of the current combination\n",
    "    for marker in marker_names:\n",
    "        # true or false values for each marker combination\n",
    "        true_false_values = [marker in set(combination_name.split(\"_\")) for combination_name in similarity_measure_df.index.values.tolist()]\n",
    "        \n",
    "        # add boolean values to dataframe\n",
    "        upset_plot_df[marker] = true_false_values\n",
    "\n",
    "    # combine scores with a chosen metric and save as scores (required by UpSet plot)\n",
    "    upset_plot_df[\"scores\"] = similarity_measure_df.mean(axis=1).values\n",
    "\n",
    "    # set index to combination names\n",
    "    upset_plot_df = upset_plot_df.set_index(marker_names)\n",
    "\n",
    "    # plot upset diagram\n",
    "    upset_plot = UpSet(upset_plot_df, sum_over=\"scores\", sort_categories_by=\"input\")\n",
    "\n",
    "    return upset_plot"
   ]
  },
  {
   "attachments": {},
   "cell_type": "markdown",
   "metadata": {},
   "source": [
    "Function for pairwise colocalization scores "
   ]
  },
  {
   "cell_type": "code",
   "execution_count": null,
   "metadata": {},
   "outputs": [],
   "source": [
    "def create_colocalization_scores(marker_names, path_data):\n",
    "    \"\"\"_summary_\n",
    "\n",
    "    :param marker_names: _description_\n",
    "    :param path_data: _description_\n",
    "    :return: _description_\n",
    "    \"\"\"\n",
    "\n",
    "    # create new dataframe to keep track of similarity measures\n",
    "    similarity_measure_df = pd.DataFrame()\n",
    "\n",
    "    # iterate through the first 100 components in the current sample\n",
    "    for comp_index, local_assort_score_df in enumerate(sorted(os.listdir(path_data))):\n",
    "        local_assort_score_df = pd.read_csv(path_data + \"/\" + str(comp_index))\n",
    "        names, comp_values = [], []\n",
    "        \n",
    "        # iterate through all combinations of the current length \n",
    "        # this picks all combinations of dataframe columns\n",
    "        for combination_df_columns in itertools.combinations(marker_names, 2):\n",
    "\n",
    "                # append values to marker values list\n",
    "                loc_assort_marker_0 = local_assort_score_df[combination_df_columns[0]].fillna(0).values\n",
    "                loc_assort_marker_1 = local_assort_score_df[combination_df_columns[1]].fillna(0).values\n",
    "\n",
    "                # name all combinations accordingly \n",
    "                combination_names = str(combination_df_columns[0]) + \"_\" + combination_df_columns[1]\n",
    "                        \n",
    "                # calculate pairwise similarity score\n",
    "                if np.mean(loc_assort_marker_0) != 0 and np.mean(loc_assort_marker_1) != 0:\n",
    "                    new_similarity_measure = spearmanr(loc_assort_marker_0, loc_assort_marker_1)[0]\n",
    "                else:\n",
    "                    new_similarity_measure = 0\n",
    "                \n",
    "                # append names and scores to list\n",
    "                names.append(combination_names)\n",
    "                comp_values.append(new_similarity_measure)\n",
    "\n",
    "        # add higher order component values to list\n",
    "        similarity_measure_df[\"CMP_\" + str(comp_index)] = comp_values\n",
    "            \n",
    "    # reset index to the combination of names\n",
    "    similarity_measure_df[\"Marker_combinations\"] = names\n",
    "    similarity_measure_df = similarity_measure_df.set_index(\"Marker_combinations\")\n",
    "\n",
    "    return similarity_measure_df"
   ]
  },
  {
   "attachments": {},
   "cell_type": "markdown",
   "metadata": {},
   "source": [
    "Calculate pairwise colocalization scores "
   ]
  },
  {
   "cell_type": "code",
   "execution_count": null,
   "metadata": {},
   "outputs": [],
   "source": [
    "# calculate pairwise colocalization scores\n",
    "similarity_measure_df = create_colocalization_scores(marker_names, path_data)\n",
    "\n",
    "# plot scores\n",
    "create_upset_plot(similarity_measure_df).plot()"
   ]
  },
  {
   "attachments": {},
   "cell_type": "markdown",
   "metadata": {},
   "source": [
    "Function for higher order similarity colocalization"
   ]
  },
  {
   "cell_type": "code",
   "execution_count": null,
   "metadata": {},
   "outputs": [],
   "source": [
    "def create_higher_order_similarity_df(marker_names, path_data, order):\n",
    "    \"\"\"_summary_\n",
    "\n",
    "    :param marker_names: _description_\n",
    "    :param path_data: _description_\n",
    "    :param order: _description_\n",
    "    :return: _description_\n",
    "    \"\"\"\n",
    "\n",
    "    # create new dataframe to keep track of similarity measures\n",
    "    similarity_measure_df = pd.DataFrame()\n",
    "\n",
    "    # iterate through the first 100 components in the current sample\n",
    "    for comp_index, local_assort_score_df in enumerate(sorted(os.listdir(path_data))):\n",
    "        local_assort_score_df = pd.read_csv(path_data + \"/\" + str(comp_index))\n",
    "        names, comp_values = [], []\n",
    "        \n",
    "        # iterate through all combinations of the current length \n",
    "        # this picks all combinations of dataframe columns\n",
    "        for combination_df_columns in itertools.combinations(marker_names, order):\n",
    "                \n",
    "                list_combination_columns = []\n",
    "                combination_names = \"\"\n",
    "                for column_name in combination_df_columns:\n",
    "\n",
    "                    # append values to marker values list\n",
    "                    values_column = local_assort_score_df[column_name].fillna(0).values\n",
    "                    list_combination_columns.append(values_column)\n",
    "\n",
    "                    # name all combinations accordingly \n",
    "                    combination_names += str(column_name) + \"_\"\n",
    "\n",
    "                # remove last underscore\n",
    "                combination_names = combination_names[:-1]\n",
    "                        \n",
    "                # calculate higher order similarity score\n",
    "                new_similarity_measure = calculate_higher_order_similarity(list_combination_columns)\n",
    "                \n",
    "                # append names and scores to list\n",
    "                names.append(combination_names)\n",
    "                comp_values.append(new_similarity_measure)\n",
    "\n",
    "        # add higher order component values to list\n",
    "        similarity_measure_df[\"CMP_\" + str(comp_index)] = comp_values\n",
    "\n",
    "    # defragment df\n",
    "    similarity_measure_df = similarity_measure_df.copy()\n",
    "            \n",
    "    # reset index to the combination of names\n",
    "    similarity_measure_df[\"Marker_combinations\"] = names\n",
    "    similarity_measure_df = similarity_measure_df.set_index(\"Marker_combinations\")\n",
    "\n",
    "    return similarity_measure_df"
   ]
  },
  {
   "attachments": {},
   "cell_type": "markdown",
   "metadata": {},
   "source": [
    "Higher order similarity order 3"
   ]
  },
  {
   "cell_type": "code",
   "execution_count": null,
   "metadata": {},
   "outputs": [],
   "source": [
    "marker_names = [\"CD37\", \"CD43\", \"CD44\", \"CD50\", \"CD54\", \"CD82\", \"CD102\", \"CD162\", \"CD11a\", \"CD18\",\"mIgG1\"]\n",
    "path_data = \"PXL00018/single_cells/code_paper/paper_data/S3\"\n",
    "\n",
    "# calculate pairwise colocalization scores\n",
    "similarity_measure_df = create_higher_order_similarity_df(marker_names, path_data, 3)\n",
    "\n",
    "# plot scores\n",
    "create_upset_plot(similarity_measure_df).plot()"
   ]
  },
  {
   "attachments": {},
   "cell_type": "markdown",
   "metadata": {},
   "source": [
    "Higher order similarity order 4"
   ]
  },
  {
   "cell_type": "code",
   "execution_count": null,
   "metadata": {},
   "outputs": [],
   "source": [
    "marker_names = [\"CD37\", \"CD43\", \"CD44\", \"CD50\", \"CD54\", \"CD82\", \"CD102\", \"CD162\", \"mIgG1\"]\n",
    "path_data = \"PXL00018/single_cells/code_paper/paper_data/S3\"\n",
    "\n",
    "# calculate pairwise colocalization scores\n",
    "similarity_measure_df = create_higher_order_similarity_df(marker_names, path_data, 4)\n",
    "\n",
    "# plot scores\n",
    "create_upset_plot(similarity_measure_df).plot()"
   ]
  }
 ],
 "metadata": {
  "kernelspec": {
   "display_name": "base",
   "language": "python",
   "name": "python3"
  },
  "language_info": {
   "codemirror_mode": {
    "name": "ipython",
    "version": 3
   },
   "file_extension": ".py",
   "mimetype": "text/x-python",
   "name": "python",
   "nbconvert_exporter": "python",
   "pygments_lexer": "ipython3",
   "version": "3.9.13"
  },
  "orig_nbformat": 4
 },
 "nbformat": 4,
 "nbformat_minor": 2
}
